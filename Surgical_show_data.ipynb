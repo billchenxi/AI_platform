{
  "nbformat": 4,
  "nbformat_minor": 0,
  "metadata": {
    "colab": {
      "provenance": [],
      "authorship_tag": "ABX9TyNm6wvwU7D4hHgRxT7cxuBX",
      "include_colab_link": true
    },
    "kernelspec": {
      "name": "python3",
      "display_name": "Python 3"
    },
    "language_info": {
      "name": "python"
    }
  },
  "cells": [
    {
      "cell_type": "markdown",
      "metadata": {
        "id": "view-in-github",
        "colab_type": "text"
      },
      "source": [
        "<a href=\"https://colab.research.google.com/github/billchenxi/AI_platform/blob/master/Surgical_show_data.ipynb\" target=\"_parent\"><img src=\"https://colab.research.google.com/assets/colab-badge.svg\" alt=\"Open In Colab\"/></a>"
      ]
    },
    {
      "cell_type": "code",
      "source": [
        "from google.colab import auth\n",
        "auth.authenticate_user()"
      ],
      "metadata": {
        "id": "UGaJGQy_hEd9"
      },
      "execution_count": null,
      "outputs": []
    },
    {
      "cell_type": "code",
      "source": [
        "!echo \"deb http://packages.cloud.google.com/apt gcsfuse-bionic main\" > /etc/apt/sources.list.d/gcsfuse.list\n",
        "!curl https://packages.cloud.google.com/apt/doc/apt-key.gpg | apt-key add -\n",
        "!apt -qq update\n",
        "!apt -qq install gcsfuse"
      ],
      "metadata": {
        "colab": {
          "base_uri": "https://localhost:8080/"
        },
        "id": "o5QupHIWhKdR",
        "outputId": "d9335a77-cc57-46b0-d1a4-49dd2f51b990"
      },
      "execution_count": null,
      "outputs": [
        {
          "output_type": "stream",
          "name": "stdout",
          "text": [
            "  % Total    % Received % Xferd  Average Speed   Time    Time     Time  Current\n",
            "                                 Dload  Upload   Total   Spent    Left  Speed\n",
            "\r  0     0    0     0    0     0      0      0 --:--:-- --:--:-- --:--:--     0\r100  1210  100  1210    0     0  18906      0 --:--:-- --:--:-- --:--:-- 18906\n",
            "OK\n",
            "24 packages can be upgraded. Run 'apt list --upgradable' to see them.\n",
            "The following NEW packages will be installed:\n",
            "  gcsfuse\n",
            "0 upgraded, 1 newly installed, 0 to remove and 24 not upgraded.\n",
            "Need to get 13.9 MB of archives.\n",
            "After this operation, 32.2 MB of additional disk space will be used.\n",
            "Selecting previously unselected package gcsfuse.\n",
            "(Reading database ... 122349 files and directories currently installed.)\n",
            "Preparing to unpack .../gcsfuse_0.42.3_amd64.deb ...\n",
            "Unpacking gcsfuse (0.42.3) ...\n",
            "Setting up gcsfuse (0.42.3) ...\n"
          ]
        }
      ]
    },
    {
      "cell_type": "code",
      "source": [
        "!mkdir colab_direcoty"
      ],
      "metadata": {
        "id": "87i_aewxhMx-"
      },
      "execution_count": null,
      "outputs": []
    },
    {
      "cell_type": "code",
      "execution_count": null,
      "metadata": {
        "colab": {
          "base_uri": "https://localhost:8080/"
        },
        "id": "X1HmXoYFg43M",
        "outputId": "929443e1-b2a9-41e2-c97b-dbec41658540"
      },
      "outputs": [
        {
          "output_type": "stream",
          "name": "stdout",
          "text": [
            "2023/04/10 00:15:57.723759 Start gcsfuse/0.42.3 (Go version go1.19.5) for app \"\" using mount point: /content/colab_direcoty\n"
          ]
        }
      ],
      "source": [
        "!gcsfuse --implicit-dirs video_data_paper colab_direcoty"
      ]
    },
    {
      "cell_type": "code",
      "source": [
        "!ls colab_direcoty/video_images/video01"
      ],
      "metadata": {
        "id": "x3ZRNbB0hPd-"
      },
      "execution_count": null,
      "outputs": []
    },
    {
      "cell_type": "code",
      "source": [
        "from __future__ import print_function \n",
        "from __future__ import division\n",
        "import torch\n",
        "# torch.cuda.set_device(0)\n",
        "import torch.nn as nn\n",
        "import torch.optim as optim\n",
        "import numpy as np\n",
        "import torchvision\n",
        "from torchvision import datasets, models, transforms\n",
        "import matplotlib.pyplot as plt\n",
        "import time, os, copy, random\n",
        "from torch.utils.data import DataLoader, DataLoader, Dataset\n",
        "from collections import OrderedDict\n",
        "from torch.autograd import Variable\n",
        "\n",
        "import pickle\n",
        "from PIL import Image\n",
        "import itertools\n",
        "from scipy.stats import pearsonr\n",
        "import pandas as pd\n",
        "\n",
        "\n",
        "from torch.utils.data import SubsetRandomSampler\n",
        "\n",
        "# -------------------------------- Custom Lib -------------------------------- #\n",
        "from torchsummary import summary\n",
        "# from src.model import *"
      ],
      "metadata": {
        "id": "rfPh4LuGhRW5"
      },
      "execution_count": null,
      "outputs": []
    },
    {
      "cell_type": "code",
      "source": [],
      "metadata": {
        "id": "lttuoq6BaHe1",
        "colab": {
          "base_uri": "https://localhost:8080/"
        },
        "outputId": "b0c473e6-63d7-4a8b-c18d-5163b4306f26"
      },
      "execution_count": 1,
      "outputs": [
        {
          "output_type": "stream",
          "name": "stdout",
          "text": [
            "Cloning into 'video_data_analysis_paper'...\n",
            "fatal: could not read Username for 'https://github.com': No such device or address\n"
          ]
        }
      ]
    },
    {
      "cell_type": "code",
      "source": [],
      "metadata": {
        "id": "iwYRKXetERNZ"
      },
      "execution_count": null,
      "outputs": []
    }
  ]
}